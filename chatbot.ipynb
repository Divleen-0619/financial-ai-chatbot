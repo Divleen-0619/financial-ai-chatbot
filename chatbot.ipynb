{
  "nbformat": 4,
  "nbformat_minor": 0,
  "metadata": {
    "colab": {
      "provenance": []
    },
    "kernelspec": {
      "name": "python3",
      "display_name": "Python 3"
    },
    "language_info": {
      "name": "python"
    }
  },
  "cells": [
    {
      "cell_type": "code",
      "source": [
        "import difflib\n",
        "\n",
        "def simple_chatbot(user_query):\n",
        "    responses = {\n",
        "        \"microsoft total revenue\": \"Microsoft's total revenue for 2024 is $245.1 billion.\",\n",
        "        \"tesla total revenue\": \"Tesla's total revenue for 2024 is $97.69 billion.\",\n",
        "        \"apple total revenue\": \"Apple's data is not present in the extracted dataset.\",\n",
        "        \"microsoft net income\": \"Microsoft's net income increased from $72.36 billion in 2023 to $88.13 billion in 2024.\",\n",
        "        \"tesla net income\": \"Tesla's net income decreased from $14.97 billion in 2023 to $7.15 billion in 2024.\",\n",
        "        \"microsoft debt ratio\": \"Microsoft's debt ratio is approximately 47.6% (Total Liabilities / Total Assets).\",\n",
        "        \"tesla debt ratio\": \"Tesla's debt ratio is approximately 39.6% (Total Liabilities / Total Assets).\",\n",
        "        \"microsoft cash flow\": \"Microsoft's cash flow from operations in 2024 is $118.5 billion.\",\n",
        "        \"tesla cash flow\": \"Tesla's cash flow from operations in 2024 is $14.92 billion.\",\n",
        "        \"microsoft revenue growth\": \"Microsoft's revenue growth has been consistent, showing a 9% increase YoY.\",\n",
        "        \"tesla revenue growth\": \"Tesla's revenue growth slowed down, showing a 3% increase YoY, compared to 15% last year.\",\n",
        "        \"microsoft financial health\": \"Microsoft has a strong financial position with growing cash flows and stable debt ratios.\",\n",
        "        \"tesla financial health\": \"Tesla's financials show declining net income, indicating potential cost pressures or market slowdowns.\"\n",
        "    }\n",
        "\n",
        "    # Find the closest match if user input isn't exact\n",
        "    match = difflib.get_close_matches(user_query.lower(), responses.keys(), n=1, cutoff=0.5)\n",
        "\n",
        "    if match:\n",
        "        return responses[match[0]]\n",
        "    else:\n",
        "        return \"Sorry, I can only provide information on predefined financial queries. Try asking about revenue, net income, debt ratio, cash flow, or financial health for Microsoft or Tesla.\"\n",
        "\n",
        "# Example interaction\n",
        "user_input = input(\"Ask a financial question: \")\n",
        "print(simple_chatbot(user_input))"
      ],
      "metadata": {
        "colab": {
          "base_uri": "https://localhost:8080/"
        },
        "id": "YCHobu_OZCQG",
        "outputId": "75fbc3cd-05fe-40ab-db66-e11671173965"
      },
      "execution_count": null,
      "outputs": [
        {
          "output_type": "stream",
          "name": "stdout",
          "text": [
            "Ask a financial question: % revenue growth of microsoft\n",
            "Tesla's revenue growth slowed down, showing a 3% increase YoY, compared to 15% last year.\n"
          ]
        }
      ]
    },
    {
      "cell_type": "code",
      "source": [],
      "metadata": {
        "id": "9Yt7IcDhZboV"
      },
      "execution_count": null,
      "outputs": []
    }
  ]
}